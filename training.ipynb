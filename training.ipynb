{
 "cells": [
  {
   "cell_type": "code",
   "execution_count": 1,
   "id": "front-cemetery",
   "metadata": {},
   "outputs": [],
   "source": [
    "import cv2\n",
    "import os\n",
    "import numpy as np"
   ]
  },
  {
   "cell_type": "code",
   "execution_count": 2,
   "id": "alien-hayes",
   "metadata": {},
   "outputs": [],
   "source": [
    "eigenface = cv2.face.EigenFaceRecognizer_create(num_components=50, threshold=2)\n",
    "fisherface = cv2.face.FisherFaceRecognizer_create(num_components=50, threshold=2)\n",
    "lbph = cv2.face.LBPHFaceRecognizer_create()"
   ]
  },
  {
   "cell_type": "code",
   "execution_count": 3,
   "id": "cardiovascular-track",
   "metadata": {},
   "outputs": [],
   "source": [
    "def getImageWithID():\n",
    "    paths = [os.path.join('samples', f) for f in os.listdir('samples')]\n",
    "    faces = []\n",
    "    ids = []\n",
    "    for imgPath in paths:\n",
    "        faceImg = cv2.cvtColor((cv2.imread(imgPath)), cv2.COLOR_BGR2GRAY)\n",
    "        id = int(os.path.split(imgPath) [-1].split('.') [1])\n",
    "        ids.append(id)\n",
    "        faces.append(faceImg)\n",
    "    return np.array(ids), faces\n",
    "\n",
    "ids, faces = getImageWithID()"
   ]
  },
  {
   "cell_type": "code",
   "execution_count": 4,
   "id": "gentle-science",
   "metadata": {},
   "outputs": [],
   "source": [
    "eigenface.train(faces, ids)\n",
    "eigenface.write('eigenClassifier.yml')\n",
    "\n",
    "fisherface.train(faces,ids)\n",
    "fisherface.write('fisherClassifier.yml')\n",
    "\n",
    "lbph.train(faces,ids)\n",
    "lbph.write('lbphClassifier.yml')"
   ]
  }
 ],
 "metadata": {
  "kernelspec": {
   "display_name": "Python 3",
   "language": "python",
   "name": "python3"
  },
  "language_info": {
   "codemirror_mode": {
    "name": "ipython",
    "version": 3
   },
   "file_extension": ".py",
   "mimetype": "text/x-python",
   "name": "python",
   "nbconvert_exporter": "python",
   "pygments_lexer": "ipython3",
   "version": "3.7.10"
  }
 },
 "nbformat": 4,
 "nbformat_minor": 5
}
