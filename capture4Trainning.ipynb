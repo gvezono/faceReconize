{
 "cells": [
  {
   "cell_type": "code",
   "execution_count": 1,
   "id": "utility-committee",
   "metadata": {},
   "outputs": [],
   "source": [
    "import cv2\n",
    "import numpy as np"
   ]
  },
  {
   "cell_type": "code",
   "execution_count": 2,
   "id": "eight-carroll",
   "metadata": {},
   "outputs": [
    {
     "name": "stdout",
     "output_type": "stream",
     "text": [
      "Person ID: 1\n"
     ]
    }
   ],
   "source": [
    "faceClassifier = cv2.CascadeClassifier(\"cascades\\\\haarcascade_frontalface_default.xml\")\n",
    "eyeClassifier = cv2.CascadeClassifier(\"cascades\\\\haarcascade_eye.xml\")\n",
    "\n",
    "cam = cv2.VideoCapture(0)\n",
    "sample = 1\n",
    "numOfSamples = 25\n",
    "\n",
    "id = input('Person ID: ')\n",
    "\n",
    "width, height = 220, 220"
   ]
  },
  {
   "cell_type": "code",
   "execution_count": 4,
   "id": "supreme-laser",
   "metadata": {},
   "outputs": [],
   "source": [
    "while True:\n",
    "    conected, image = cam.read()\n",
    "    grayImg = cv2.cvtColor(image, cv2.COLOR_BGR2GRAY)\n",
    "    detectedFaces = faceClassifier.detectMultiScale(grayImg,scaleFactor=1.5,minSize=(150,150))\n",
    "    for(x,y,w,h) in detectedFaces:\n",
    "        cv2.rectangle(image, (x,y), (x+w,y+h), (0,0,255), 2)\n",
    "        eyeReg = image[y:y+h,x:x+w]\n",
    "        grayEyeReg = cv2.cvtColor(eyeReg, cv2.COLOR_BGR2GRAY)\n",
    "        detectedEyes = eyeClassifier.detectMultiScale(grayEyeReg)\n",
    "        for(ex,ey,ew,eh) in detectedEyes:\n",
    "            cv2.rectangle(eyeReg, (ex,ey), (ex+ew, ey+eh), (0,255,0), 2)\n",
    "            if cv2.waitKey(1) & 0xFF == ord('c'):\n",
    "                if np.average(grayImg) > 110:\n",
    "                    faceImage = cv2.resize(grayImg[y:y+h,x:x+w],(width,height))\n",
    "                    cv2.imwrite(\"samples/person.\"+str(id)+\".\"+str(sample)+\".jpg\", faceImage)\n",
    "                    sample += 1\n",
    "    cv2.imshow(\"Face\", image)\n",
    "    cv2.waitKey(1)\n",
    "    if(sample > numOfSamples):\n",
    "        break\n",
    "\n",
    "cam.release()\n",
    "cv2.destroyAllWindows()"
   ]
  },
  {
   "cell_type": "code",
   "execution_count": null,
   "id": "alone-hamburg",
   "metadata": {},
   "outputs": [],
   "source": []
  }
 ],
 "metadata": {
  "kernelspec": {
   "display_name": "Python 3",
   "language": "python",
   "name": "python3"
  },
  "language_info": {
   "codemirror_mode": {
    "name": "ipython",
    "version": 3
   },
   "file_extension": ".py",
   "mimetype": "text/x-python",
   "name": "python",
   "nbconvert_exporter": "python",
   "pygments_lexer": "ipython3",
   "version": "3.7.10"
  }
 },
 "nbformat": 4,
 "nbformat_minor": 5
}
