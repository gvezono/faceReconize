{
 "cells": [
  {
   "cell_type": "code",
   "execution_count": 1,
   "id": "hispanic-cutting",
   "metadata": {},
   "outputs": [],
   "source": [
    "import cv2"
   ]
  },
  {
   "cell_type": "code",
   "execution_count": 2,
   "id": "progressive-occurrence",
   "metadata": {},
   "outputs": [],
   "source": [
    "faceDetect = cv2.CascadeClassifier(\"cascades\\\\haarcascade_frontalface_default.xml\")\n",
    "reconizer = cv2.face.EigenFaceRecognizer_create()\n",
    "reconizer.read('eigenClassifier.yml')\n",
    "width, height = 220, 220\n",
    "font = cv2.FONT_HERSHEY_COMPLEX_SMALL\n",
    "cam = cv2.VideoCapture(0)"
   ]
  },
  {
   "cell_type": "code",
   "execution_count": 3,
   "id": "accessory-pickup",
   "metadata": {},
   "outputs": [],
   "source": [
    "while (True):\n",
    "    conected, image = cam.read()\n",
    "    grayImg = cv2.cvtColor(image, cv2.COLOR_BGR2GRAY)\n",
    "    detectedFaces = faceDetect.detectMultiScale(grayImg, scaleFactor = 1.5)\n",
    "    for (x, y, w, h) in detectedFaces:\n",
    "        faceImg = cv2.resize(grayImg[y:y+h,x:x+w], (width,height))\n",
    "        cv2.rectangle(image, (x,y), (x+w,y+h), (0,0,255), 2)\n",
    "        id, reliability = reconizer.predict(faceImg)\n",
    "        cv2.putText(image, str(id), (x,y+h+30), font, 2, (0,0,255))\n",
    "    cv2.imshow(\"Face\", image)\n",
    "    if cv2.waitKey(1) == ord('q'):\n",
    "        break\n",
    "\n",
    "cam.release()\n",
    "cv2.destroyAllWindows()"
   ]
  },
  {
   "cell_type": "code",
   "execution_count": null,
   "id": "funded-jefferson",
   "metadata": {},
   "outputs": [],
   "source": []
  }
 ],
 "metadata": {
  "kernelspec": {
   "display_name": "Python 3",
   "language": "python",
   "name": "python3"
  },
  "language_info": {
   "codemirror_mode": {
    "name": "ipython",
    "version": 3
   },
   "file_extension": ".py",
   "mimetype": "text/x-python",
   "name": "python",
   "nbconvert_exporter": "python",
   "pygments_lexer": "ipython3",
   "version": "3.7.10"
  }
 },
 "nbformat": 4,
 "nbformat_minor": 5
}
